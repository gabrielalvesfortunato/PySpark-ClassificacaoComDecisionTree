{
 "cells": [
  {
   "cell_type": "markdown",
   "metadata": {},
   "source": [
    "### Spark MLLib - Classificação - Decision Tree"
   ]
  },
  {
   "cell_type": "markdown",
   "metadata": {},
   "source": [
    "**Descrição**\n",
    "\n",
    "    . Fácil de compreender e fácil de explicar\n",
    "    . Variáveis preditoras são usadas para construir uma árvore que pregressivamente prevê valores target\n",
    "    . Dados de treino são usados para construit a árvore de decisão e preve o valor target.\n",
    "    . A árvore de decisão se torna um modelo que é usaod para fazer previsões com novos dados."
   ]
  },
  {
   "cell_type": "markdown",
   "metadata": {},
   "source": [
    "**Vantagens**\n",
    "\n",
    "    - Fácil de interpretar e explicar\n",
    "    - Funciona com valores missing\n",
    "    - Veloz"
   ]
  },
  {
   "cell_type": "markdown",
   "metadata": {},
   "source": [
    "**Desvantagens**\n",
    "\n",
    "    - Acurácia limitada\n",
    "    - Bias podem ocorrer com frequencia\n",
    "    - Não funciona muito bem com muitas variáveis preditoras"
   ]
  },
  {
   "cell_type": "markdown",
   "metadata": {},
   "source": [
    "**Aplicação**\n",
    "\n",
    "    - Aprovação de crédito\n",
    "    - Categorização preliminar"
   ]
  },
  {
   "cell_type": "markdown",
   "metadata": {},
   "source": [
    "### Classificar as espécies de flores, listadas no dataset iris"
   ]
  },
  {
   "cell_type": "code",
   "execution_count": 1,
   "metadata": {},
   "outputs": [],
   "source": [
    "# imports dos pacotes\n",
    "from pyspark.sql import Row\n",
    "from pyspark.ml.feature import StringIndexer\n",
    "from pyspark.ml.linalg import Vectors\n",
    "from pyspark.ml.classification import DecisionTreeClassifier\n",
    "from pyspark.ml.evaluation import MulticlassClassificationEvaluator"
   ]
  },
  {
   "cell_type": "code",
   "execution_count": 2,
   "metadata": {},
   "outputs": [],
   "source": [
    "# Spark Session - usada quando se trabalha com Dataframes no Spark\n",
    "spSession = SparkSession.builder.master(\"local\").appName(\"SparkMLLib-Classification\").getOrCreate()"
   ]
  },
  {
   "cell_type": "code",
   "execution_count": 3,
   "metadata": {},
   "outputs": [],
   "source": [
    "# Carregando os dados e gerando um RDD\n",
    "irisRDD = sc.textFile(\"iris.csv\")"
   ]
  },
  {
   "cell_type": "code",
   "execution_count": 4,
   "metadata": {},
   "outputs": [
    {
     "data": {
      "text/plain": [
       "iris.csv MapPartitionsRDD[1] at textFile at NativeMethodAccessorImpl.java:0"
      ]
     },
     "execution_count": 4,
     "metadata": {},
     "output_type": "execute_result"
    }
   ],
   "source": [
    "# Colocando o RDD em cache. Esse processo otimiza a performance\n",
    "irisRDD.cache()"
   ]
  },
  {
   "cell_type": "code",
   "execution_count": 5,
   "metadata": {},
   "outputs": [
    {
     "data": {
      "text/plain": [
       "151"
      ]
     },
     "execution_count": 5,
     "metadata": {},
     "output_type": "execute_result"
    }
   ],
   "source": [
    "# Contando o numero de elemntos do RDD\n",
    "irisRDD.count()"
   ]
  },
  {
   "cell_type": "code",
   "execution_count": 6,
   "metadata": {},
   "outputs": [
    {
     "data": {
      "text/plain": [
       "['Sepal.Length,Sepal.Width,Petal.Length,Petal.Width,Species',\n",
       " '5.1,3.5,1.4,0.2,setosa',\n",
       " '4.9,3,1.4,0.2,setosa',\n",
       " '4.7,3.2,1.3,0.2,setosa',\n",
       " '4.6,3.1,1.5,0.2,setosa',\n",
       " '5,3.6,1.4,0.2,setosa',\n",
       " '5.4,3.9,1.7,0.4,setosa']"
      ]
     },
     "execution_count": 6,
     "metadata": {},
     "output_type": "execute_result"
    }
   ],
   "source": [
    "# Mostrando os pimeiros elementos do RDD\n",
    "irisRDD.take(7)"
   ]
  },
  {
   "cell_type": "code",
   "execution_count": 11,
   "metadata": {},
   "outputs": [],
   "source": [
    "# Removendo a primeira linha do arquivo (cabeçalho)\n",
    "header = irisRDD.first()\n",
    "irisRDD2 = irisRDD.filter(lambda line: line != header)"
   ]
  },
  {
   "cell_type": "code",
   "execution_count": 12,
   "metadata": {},
   "outputs": [
    {
     "data": {
      "text/plain": [
       "['5.1,3.5,1.4,0.2,setosa',\n",
       " '4.9,3,1.4,0.2,setosa',\n",
       " '4.7,3.2,1.3,0.2,setosa',\n",
       " '4.6,3.1,1.5,0.2,setosa',\n",
       " '5,3.6,1.4,0.2,setosa']"
      ]
     },
     "execution_count": 12,
     "metadata": {},
     "output_type": "execute_result"
    }
   ],
   "source": [
    "irisRDD2.take(5)"
   ]
  },
  {
   "cell_type": "markdown",
   "metadata": {},
   "source": [
    "### Limpeza dos dados"
   ]
  },
  {
   "cell_type": "code",
   "execution_count": 13,
   "metadata": {},
   "outputs": [],
   "source": [
    "# Separando as colunas\n",
    "irisRDD3 = irisRDD2.map(lambda columns: columns.split(\",\"))"
   ]
  },
  {
   "cell_type": "code",
   "execution_count": 17,
   "metadata": {},
   "outputs": [],
   "source": [
    "# Mapeando as colunas - Convertendo os valores para numericos\n",
    "irisRDD4 = irisRDD3.map(lambda p: Row(SEPAL_LENGTH = float(p[0]), SEPAL_WIDTH = float(p[1]),\n",
    "                                      PETAL_LENGTH = float(p[2]), PETAL_WIDTH = float(p[3]), \n",
    "                                      SPECIES = p[4]))"
   ]
  },
  {
   "cell_type": "code",
   "execution_count": 18,
   "metadata": {},
   "outputs": [],
   "source": [
    "# Criando um dataframe - Spark Session\n",
    "irisDF = spSession.createDataFrame(irisRDD4)"
   ]
  },
  {
   "cell_type": "code",
   "execution_count": 19,
   "metadata": {},
   "outputs": [
    {
     "data": {
      "text/plain": [
       "DataFrame[PETAL_LENGTH: double, PETAL_WIDTH: double, SEPAL_LENGTH: double, SEPAL_WIDTH: double, SPECIES: string]"
      ]
     },
     "execution_count": 19,
     "metadata": {},
     "output_type": "execute_result"
    }
   ],
   "source": [
    "# Alocando o dataframe para o cache\n",
    "irisDF.cache()"
   ]
  },
  {
   "cell_type": "code",
   "execution_count": 20,
   "metadata": {},
   "outputs": [
    {
     "data": {
      "text/plain": [
       "[Row(PETAL_LENGTH=1.4, PETAL_WIDTH=0.2, SEPAL_LENGTH=5.1, SEPAL_WIDTH=3.5, SPECIES='setosa'),\n",
       " Row(PETAL_LENGTH=1.4, PETAL_WIDTH=0.2, SEPAL_LENGTH=4.9, SEPAL_WIDTH=3.0, SPECIES='setosa'),\n",
       " Row(PETAL_LENGTH=1.3, PETAL_WIDTH=0.2, SEPAL_LENGTH=4.7, SEPAL_WIDTH=3.2, SPECIES='setosa'),\n",
       " Row(PETAL_LENGTH=1.5, PETAL_WIDTH=0.2, SEPAL_LENGTH=4.6, SEPAL_WIDTH=3.1, SPECIES='setosa'),\n",
       " Row(PETAL_LENGTH=1.4, PETAL_WIDTH=0.2, SEPAL_LENGTH=5.0, SEPAL_WIDTH=3.6, SPECIES='setosa')]"
      ]
     },
     "execution_count": 20,
     "metadata": {},
     "output_type": "execute_result"
    }
   ],
   "source": [
    "irisDF.take(5)"
   ]
  },
  {
   "cell_type": "code",
   "execution_count": 23,
   "metadata": {},
   "outputs": [],
   "source": [
    "# Criando um índice numérico para a coluna de label target\n",
    "stringIndexer = StringIndexer(inputCol = \"SPECIES\", outputCol = \"IDX_SPECIES\")\n",
    "si_model = stringIndexer.fit(irisDF)\n",
    "irisNormDF = si_model.transform(irisDF) "
   ]
  },
  {
   "cell_type": "code",
   "execution_count": 24,
   "metadata": {},
   "outputs": [
    {
     "data": {
      "text/plain": [
       "[Row(SPECIES='versicolor', IDX_SPECIES=0.0),\n",
       " Row(SPECIES='setosa', IDX_SPECIES=2.0),\n",
       " Row(SPECIES='virginica', IDX_SPECIES=1.0)]"
      ]
     },
     "execution_count": 24,
     "metadata": {},
     "output_type": "execute_result"
    }
   ],
   "source": [
    "irisNormDF.select(\"SPECIES\", \"IDX_SPECIES\").distinct().collect()"
   ]
  },
  {
   "cell_type": "markdown",
   "metadata": {},
   "source": [
    "### Análise Exploratória de Dados"
   ]
  },
  {
   "cell_type": "code",
   "execution_count": 25,
   "metadata": {},
   "outputs": [
    {
     "name": "stdout",
     "output_type": "stream",
     "text": [
      "+-------+------------------+------------------+------------------+------------------+---------+------------------+\n",
      "|summary|      PETAL_LENGTH|       PETAL_WIDTH|      SEPAL_LENGTH|       SEPAL_WIDTH|  SPECIES|       IDX_SPECIES|\n",
      "+-------+------------------+------------------+------------------+------------------+---------+------------------+\n",
      "|  count|               150|               150|               150|               150|      150|               150|\n",
      "|   mean| 3.758000000000001|1.1993333333333331| 5.843333333333332|3.0573333333333337|     null|               1.0|\n",
      "| stddev|1.7652982332594662|0.7622376689603467|0.8280661279778634|0.4358662849366978|     null|0.8192319205190404|\n",
      "|    min|               1.0|               0.1|               4.3|               2.0|   setosa|               0.0|\n",
      "|    max|               6.9|               2.5|               7.9|               4.4|virginica|               2.0|\n",
      "+-------+------------------+------------------+------------------+------------------+---------+------------------+\n",
      "\n"
     ]
    }
   ],
   "source": [
    "# Estatistica Descritiva\n",
    "irisNormDF.describe().show()"
   ]
  },
  {
   "cell_type": "code",
   "execution_count": 26,
   "metadata": {},
   "outputs": [
    {
     "name": "stdout",
     "output_type": "stream",
     "text": [
      "Correlação da variavel IDX_SPECIES com  PETAL_LENGTH -0.649241830764174\n",
      "Correlação da variavel IDX_SPECIES com  PETAL_WIDTH -0.5803770334306264\n",
      "Correlação da variavel IDX_SPECIES com  SEPAL_LENGTH -0.46003915650023686\n",
      "Correlação da variavel IDX_SPECIES com  SEPAL_WIDTH 0.6183715308237433\n",
      "Correlação da variavel IDX_SPECIES com  IDX_SPECIES 1.0\n"
     ]
    }
   ],
   "source": [
    "# Correlação entre as variáveis\n",
    "for column in irisNormDF.columns:\n",
    "    if not(isinstance(irisNormDF.select(column).take(1)[0][0], str)):\n",
    "        print(\"Correlação da variavel IDX_SPECIES com \", column, irisNormDF.stat.corr(\"IDX_SPECIES\", column))"
   ]
  },
  {
   "cell_type": "markdown",
   "metadata": {},
   "source": [
    "### Pré-Processamento dos Dados"
   ]
  },
  {
   "cell_type": "code",
   "execution_count": 30,
   "metadata": {},
   "outputs": [],
   "source": [
    "# Criando um LabeledPoint (target, Vector(features))\n",
    "# Remove colunas não relevantes para o modelo ou com baixa correlaçao\n",
    "def transformaVar(row):\n",
    "    obj = (row[\"SPECIES\"], row[\"IDX_SPECIES\"], Vectors.dense([row[\"SEPAL_LENGTH\"], row[\"SEPAL_WIDTH\"],\n",
    "                                                              row[\"PETAL_LENGTH\"], row[\"PETAL_WIDTH\"]]))\n",
    "    return obj"
   ]
  },
  {
   "cell_type": "code",
   "execution_count": 31,
   "metadata": {},
   "outputs": [],
   "source": [
    "# Converte o dataframe para RDD - funçao map funciona em RDD´s\n",
    "irisRDD5 = irisNormDF.rdd.map(transformaVar)"
   ]
  },
  {
   "cell_type": "code",
   "execution_count": 32,
   "metadata": {},
   "outputs": [
    {
     "data": {
      "text/plain": [
       "[('setosa', 2.0, DenseVector([5.1, 3.5, 1.4, 0.2])),\n",
       " ('setosa', 2.0, DenseVector([4.9, 3.0, 1.4, 0.2])),\n",
       " ('setosa', 2.0, DenseVector([4.7, 3.2, 1.3, 0.2])),\n",
       " ('setosa', 2.0, DenseVector([4.6, 3.1, 1.5, 0.2])),\n",
       " ('setosa', 2.0, DenseVector([5.0, 3.6, 1.4, 0.2]))]"
      ]
     },
     "execution_count": 32,
     "metadata": {},
     "output_type": "execute_result"
    }
   ],
   "source": [
    "irisRDD5.take(5)"
   ]
  },
  {
   "cell_type": "code",
   "execution_count": 35,
   "metadata": {},
   "outputs": [
    {
     "name": "stdout",
     "output_type": "stream",
     "text": [
      "+-------+-----+-----------------+\n",
      "|species|label|         features|\n",
      "+-------+-----+-----------------+\n",
      "| setosa|  2.0|[5.1,3.5,1.4,0.2]|\n",
      "| setosa|  2.0|[4.9,3.0,1.4,0.2]|\n",
      "| setosa|  2.0|[4.7,3.2,1.3,0.2]|\n",
      "| setosa|  2.0|[4.6,3.1,1.5,0.2]|\n",
      "| setosa|  2.0|[5.0,3.6,1.4,0.2]|\n",
      "| setosa|  2.0|[5.4,3.9,1.7,0.4]|\n",
      "| setosa|  2.0|[4.6,3.4,1.4,0.3]|\n",
      "| setosa|  2.0|[5.0,3.4,1.5,0.2]|\n",
      "| setosa|  2.0|[4.4,2.9,1.4,0.2]|\n",
      "| setosa|  2.0|[4.9,3.1,1.5,0.1]|\n",
      "+-------+-----+-----------------+\n",
      "only showing top 10 rows\n",
      "\n"
     ]
    },
    {
     "data": {
      "text/plain": [
       "DataFrame[species: string, label: double, features: vector]"
      ]
     },
     "execution_count": 35,
     "metadata": {},
     "output_type": "execute_result"
    }
   ],
   "source": [
    "# Transformando novamente para Dataframe\n",
    "irisDF = spSession.createDataFrame(irisRDD5, [\"species\", \"label\", \"features\"])\n",
    "irisDF.select(\"species\", \"label\", \"features\").show(10)\n",
    "irisDF.cache()"
   ]
  },
  {
   "cell_type": "markdown",
   "metadata": {},
   "source": [
    "### Machine Learning"
   ]
  },
  {
   "cell_type": "code",
   "execution_count": 36,
   "metadata": {},
   "outputs": [],
   "source": [
    "# dados de Treino e de teste\n",
    "(dados_treino, dados_teste) = irisDF.randomSplit([0.7, 0.3])"
   ]
  },
  {
   "cell_type": "code",
   "execution_count": 37,
   "metadata": {},
   "outputs": [
    {
     "data": {
      "text/plain": [
       "102"
      ]
     },
     "execution_count": 37,
     "metadata": {},
     "output_type": "execute_result"
    }
   ],
   "source": [
    "dados_treino.count()"
   ]
  },
  {
   "cell_type": "code",
   "execution_count": 38,
   "metadata": {},
   "outputs": [
    {
     "data": {
      "text/plain": [
       "48"
      ]
     },
     "execution_count": 38,
     "metadata": {},
     "output_type": "execute_result"
    }
   ],
   "source": [
    "dados_teste.count()"
   ]
  },
  {
   "cell_type": "code",
   "execution_count": 39,
   "metadata": {},
   "outputs": [],
   "source": [
    "# Construindo o modelo com os dados de treino\n",
    "dtClassifier = DecisionTreeClassifier(maxDepth = 2, labelCol = \"label\", featuresCol = \"features\")\n",
    "modelo = dtClassifier.fit(dados_treino)"
   ]
  },
  {
   "cell_type": "code",
   "execution_count": 41,
   "metadata": {},
   "outputs": [
    {
     "name": "stdout",
     "output_type": "stream",
     "text": [
      "Numero de Nodes:  5\n"
     ]
    }
   ],
   "source": [
    "# Verificando alguns dados sobre a Decision Tree\n",
    "print(\"Numero de Nodes: \", modelo.numNodes)"
   ]
  },
  {
   "cell_type": "code",
   "execution_count": 42,
   "metadata": {},
   "outputs": [
    {
     "name": "stdout",
     "output_type": "stream",
     "text": [
      "Profundidade dos nodes:  2\n"
     ]
    }
   ],
   "source": [
    "print(\"Profundidade dos nodes: \", modelo.depth)"
   ]
  },
  {
   "cell_type": "code",
   "execution_count": 43,
   "metadata": {},
   "outputs": [
    {
     "data": {
      "text/plain": [
       "[Row(prediction=2.0, species='setosa', label=2.0),\n",
       " Row(prediction=2.0, species='setosa', label=2.0),\n",
       " Row(prediction=2.0, species='setosa', label=2.0),\n",
       " Row(prediction=2.0, species='setosa', label=2.0),\n",
       " Row(prediction=2.0, species='setosa', label=2.0),\n",
       " Row(prediction=2.0, species='setosa', label=2.0),\n",
       " Row(prediction=2.0, species='setosa', label=2.0),\n",
       " Row(prediction=2.0, species='setosa', label=2.0),\n",
       " Row(prediction=2.0, species='setosa', label=2.0),\n",
       " Row(prediction=2.0, species='setosa', label=2.0),\n",
       " Row(prediction=2.0, species='setosa', label=2.0),\n",
       " Row(prediction=2.0, species='setosa', label=2.0),\n",
       " Row(prediction=0.0, species='versicolor', label=0.0),\n",
       " Row(prediction=0.0, species='versicolor', label=0.0),\n",
       " Row(prediction=0.0, species='versicolor', label=0.0),\n",
       " Row(prediction=0.0, species='versicolor', label=0.0),\n",
       " Row(prediction=0.0, species='versicolor', label=0.0),\n",
       " Row(prediction=0.0, species='versicolor', label=0.0),\n",
       " Row(prediction=0.0, species='versicolor', label=0.0),\n",
       " Row(prediction=0.0, species='versicolor', label=0.0),\n",
       " Row(prediction=0.0, species='versicolor', label=0.0),\n",
       " Row(prediction=0.0, species='versicolor', label=0.0),\n",
       " Row(prediction=0.0, species='versicolor', label=0.0),\n",
       " Row(prediction=0.0, species='versicolor', label=0.0),\n",
       " Row(prediction=0.0, species='versicolor', label=0.0),\n",
       " Row(prediction=0.0, species='versicolor', label=0.0),\n",
       " Row(prediction=0.0, species='versicolor', label=0.0),\n",
       " Row(prediction=0.0, species='versicolor', label=0.0),\n",
       " Row(prediction=1.0, species='versicolor', label=0.0),\n",
       " Row(prediction=1.0, species='virginica', label=1.0),\n",
       " Row(prediction=1.0, species='virginica', label=1.0),\n",
       " Row(prediction=1.0, species='virginica', label=1.0),\n",
       " Row(prediction=1.0, species='virginica', label=1.0),\n",
       " Row(prediction=1.0, species='virginica', label=1.0),\n",
       " Row(prediction=0.0, species='virginica', label=1.0),\n",
       " Row(prediction=0.0, species='virginica', label=1.0),\n",
       " Row(prediction=1.0, species='virginica', label=1.0),\n",
       " Row(prediction=1.0, species='virginica', label=1.0),\n",
       " Row(prediction=1.0, species='virginica', label=1.0),\n",
       " Row(prediction=1.0, species='virginica', label=1.0),\n",
       " Row(prediction=1.0, species='virginica', label=1.0),\n",
       " Row(prediction=1.0, species='virginica', label=1.0),\n",
       " Row(prediction=1.0, species='virginica', label=1.0),\n",
       " Row(prediction=1.0, species='virginica', label=1.0),\n",
       " Row(prediction=1.0, species='virginica', label=1.0),\n",
       " Row(prediction=1.0, species='virginica', label=1.0),\n",
       " Row(prediction=1.0, species='virginica', label=1.0),\n",
       " Row(prediction=1.0, species='virginica', label=1.0)]"
      ]
     },
     "execution_count": 43,
     "metadata": {},
     "output_type": "execute_result"
    }
   ],
   "source": [
    "# Previsões com dados de teste\n",
    "previsoes = modelo.transform(dados_teste)\n",
    "previsoes.select(\"prediction\", \"species\", \"label\").collect()"
   ]
  },
  {
   "cell_type": "code",
   "execution_count": 44,
   "metadata": {},
   "outputs": [
    {
     "data": {
      "text/plain": [
       "0.9375"
      ]
     },
     "execution_count": 44,
     "metadata": {},
     "output_type": "execute_result"
    }
   ],
   "source": [
    "# Avaliando a acurácia do modelo\n",
    "avaliador = MulticlassClassificationEvaluator(predictionCol = \"prediction\", labelCol = \"label\", metricName = \"accuracy\")\n",
    "avaliador.evaluate(previsoes)"
   ]
  },
  {
   "cell_type": "code",
   "execution_count": 45,
   "metadata": {},
   "outputs": [
    {
     "name": "stdout",
     "output_type": "stream",
     "text": [
      "+-----+----------+-----+\n",
      "|label|prediction|count|\n",
      "+-----+----------+-----+\n",
      "|  1.0|       1.0|   17|\n",
      "|  0.0|       1.0|    1|\n",
      "|  2.0|       2.0|   12|\n",
      "|  1.0|       0.0|    2|\n",
      "|  0.0|       0.0|   16|\n",
      "+-----+----------+-----+\n",
      "\n"
     ]
    }
   ],
   "source": [
    "# Resumindo as previsões - Confusion Matrix\n",
    "previsoes.groupBy(\"label\", \"prediction\").count().show()"
   ]
  },
  {
   "cell_type": "markdown",
   "metadata": {},
   "source": [
    "### Fim"
   ]
  }
 ],
 "metadata": {
  "kernelspec": {
   "display_name": "Python 3",
   "language": "python",
   "name": "python3"
  },
  "language_info": {
   "codemirror_mode": {
    "name": "ipython",
    "version": 3
   },
   "file_extension": ".py",
   "mimetype": "text/x-python",
   "name": "python",
   "nbconvert_exporter": "python",
   "pygments_lexer": "ipython3",
   "version": "3.7.3"
  }
 },
 "nbformat": 4,
 "nbformat_minor": 2
}
